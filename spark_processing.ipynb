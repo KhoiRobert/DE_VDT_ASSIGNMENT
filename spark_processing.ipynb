{
 "cells": [
  {
   "cell_type": "code",
   "execution_count": 1,
   "id": "c2be4e2f",
   "metadata": {},
   "outputs": [],
   "source": [
    "from pyspark.sql import SparkSession"
   ]
  },
  {
   "cell_type": "code",
   "execution_count": 2,
   "id": "76d174b4",
   "metadata": {},
   "outputs": [],
   "source": [
    "from pyspark.sql.functions import col, to_date, date_format, sum as spark_sum"
   ]
  },
  {
   "cell_type": "code",
   "execution_count": 3,
   "id": "99f5b60e",
   "metadata": {},
   "outputs": [
    {
     "name": "stderr",
     "output_type": "stream",
     "text": [
      "24/06/14 11:24:56 WARN Utils: Your hostname, khoi-ROG-Strix-G512LI-G512LI resolves to a loopback address: 127.0.1.1; using 192.168.1.239 instead (on interface wlo1)\n",
      "24/06/14 11:24:56 WARN Utils: Set SPARK_LOCAL_IP if you need to bind to another address\n",
      "Setting default log level to \"WARN\".\n",
      "To adjust logging level use sc.setLogLevel(newLevel). For SparkR, use setLogLevel(newLevel).\n",
      "24/06/14 11:24:56 WARN NativeCodeLoader: Unable to load native-hadoop library for your platform... using builtin-java classes where applicable\n"
     ]
    }
   ],
   "source": [
    "sc = SparkSession.builder.appName(\"test-spark\").getOrCreate()"
   ]
  },
  {
   "cell_type": "code",
   "execution_count": 4,
   "id": "42430203",
   "metadata": {},
   "outputs": [
    {
     "name": "stderr",
     "output_type": "stream",
     "text": [
      "\r",
      "[Stage 0:>                                                          (0 + 1) / 1]\r",
      "\r",
      "                                                                                \r"
     ]
    }
   ],
   "source": [
    "df1 = sc.read.parquet(\"hdfs:///log_action_test/88508dea-97e5-400f-b25d-210c32b85468\")"
   ]
  },
  {
   "cell_type": "code",
   "execution_count": 5,
   "id": "73718afd",
   "metadata": {},
   "outputs": [
    {
     "name": "stdout",
     "output_type": "stream",
     "text": [
      "+------------+--------+---------+---------+\n",
      "|student_code|activity|numOfFile|timestamp|\n",
      "+------------+--------+---------+---------+\n",
      "|          33|    read|        5|6/12/2024|\n",
      "|          33| execute|        1|6/13/2024|\n",
      "|           6|   write|        6|6/15/2024|\n",
      "|          24| execute|        8|6/12/2024|\n",
      "|          21|    read|        5|6/12/2024|\n",
      "|          24|    read|       10|6/12/2024|\n",
      "|           3|    read|        9|6/13/2024|\n",
      "|          21|   write|        9|6/12/2024|\n",
      "|          21|    read|        1|6/15/2024|\n",
      "|          24|   write|        5|6/15/2024|\n",
      "|          24| execute|       10|6/10/2024|\n",
      "|          21| execute|        6|6/15/2024|\n",
      "|          27|   write|        7|6/14/2024|\n",
      "|          39|   write|        1|6/10/2024|\n",
      "|          27| execute|       10|6/12/2024|\n",
      "|          15|   write|        3|6/13/2024|\n",
      "|          27|   write|        1|6/10/2024|\n",
      "|          39| execute|        5|6/13/2024|\n",
      "|          30|   write|        6|6/10/2024|\n",
      "|          18|    read|        4|6/10/2024|\n",
      "+------------+--------+---------+---------+\n",
      "only showing top 20 rows\n",
      "\n"
     ]
    }
   ],
   "source": [
    "df1.show()"
   ]
  },
  {
   "cell_type": "code",
   "execution_count": 6,
   "id": "59ae2427",
   "metadata": {},
   "outputs": [
    {
     "name": "stdout",
     "output_type": "stream",
     "text": [
      "<class 'pyspark.sql.dataframe.DataFrame'>\n"
     ]
    }
   ],
   "source": [
    "print(type(df1))"
   ]
  },
  {
   "cell_type": "code",
   "execution_count": 7,
   "id": "79f5f024",
   "metadata": {},
   "outputs": [],
   "source": [
    "activity_df = df1.withColumn(\"timestamp\", date_format(to_date(col(\"timestamp\"), \"M/d/yyyy\"), \"yyyyMMdd\"))"
   ]
  },
  {
   "cell_type": "code",
   "execution_count": 8,
   "id": "fc86e888",
   "metadata": {},
   "outputs": [],
   "source": [
    "students_info_df = sc.read.option(\"header\", \"false\").csv(\"/students_info_path/danh_sach_sv_de.csv\")"
   ]
  },
  {
   "cell_type": "code",
   "execution_count": 9,
   "id": "73e8ce5a",
   "metadata": {},
   "outputs": [],
   "source": [
    "columns = [\"student_code\", \"student_name\"]\n",
    "students_info_df = students_info_df.toDF(*columns)"
   ]
  },
  {
   "cell_type": "code",
   "execution_count": 10,
   "id": "bcb831e9",
   "metadata": {},
   "outputs": [
    {
     "name": "stdout",
     "output_type": "stream",
     "text": [
      "+------------+--------------------+\n",
      "|student_code|        student_name|\n",
      "+------------+--------------------+\n",
      "|           1|          Mai Đức An|\n",
      "|           2|      Nguyễn Mai Anh|\n",
      "|           3|   Ngô Ngọc Tuấn Anh|\n",
      "|           4|      Trần Trung Anh|\n",
      "|           5|       Trần Ngọc Bảo|\n",
      "|           6|  Nguyễn Vũ Hòa Bình|\n",
      "|           7|    Nguyễn Thành Đạt|\n",
      "|           8|        Đỗ Thành Đạt|\n",
      "|           9|    Nguyễn Khoa Đoàn|\n",
      "|          10|    Nguyễn Quốc Dũng|\n",
      "|          11|     Đường Minh Quân|\n",
      "|          12|   Dương Quang Giang|\n",
      "|          13|    Nguyễn Minh Hiếu|\n",
      "|          14|        Ngô Phi Hùng|\n",
      "|          15|Nguyễn Đình Thiên...|\n",
      "|          16|        Đỗ Doãn Khắc|\n",
      "|          17|      Châu Minh Khải|\n",
      "|          18|      Phạm Đình Khôi|\n",
      "|          19|        Lê Bảo Khánh|\n",
      "|          20|        Lê Minh Phúc|\n",
      "+------------+--------------------+\n",
      "only showing top 20 rows\n",
      "\n"
     ]
    }
   ],
   "source": [
    "students_info_df.show()"
   ]
  },
  {
   "cell_type": "code",
   "execution_count": 11,
   "id": "7b4320f9",
   "metadata": {},
   "outputs": [],
   "source": [
    "joined_df = activity_df.join(students_info_df, \"student_code\",\"outer\")"
   ]
  },
  {
   "cell_type": "code",
   "execution_count": 12,
   "id": "1a98c9d5",
   "metadata": {},
   "outputs": [
    {
     "name": "stdout",
     "output_type": "stream",
     "text": [
      "+------------+--------+---------+---------+-----------------+\n",
      "|student_code|activity|numOfFile|timestamp|     student_name|\n",
      "+------------+--------+---------+---------+-----------------+\n",
      "|           1|    read|        5| 20240613|       Mai Đức An|\n",
      "|           1|    read|        8| 20240610|       Mai Đức An|\n",
      "|           1|    read|        9| 20240613|       Mai Đức An|\n",
      "|           1|    read|        5| 20240611|       Mai Đức An|\n",
      "|           1|    read|        6| 20240611|       Mai Đức An|\n",
      "|           1|    read|        9| 20240610|       Mai Đức An|\n",
      "|           1|   write|        4| 20240614|       Mai Đức An|\n",
      "|           1| execute|        3| 20240611|       Mai Đức An|\n",
      "|           1| execute|       10| 20240612|       Mai Đức An|\n",
      "|           1|    read|        8| 20240610|       Mai Đức An|\n",
      "|           1|   write|        6| 20240610|       Mai Đức An|\n",
      "|           1|   write|       10| 20240613|       Mai Đức An|\n",
      "|           1|    read|        7| 20240615|       Mai Đức An|\n",
      "|           2|   write|       10| 20240612|   Nguyễn Mai Anh|\n",
      "|           2|   write|        2| 20240615|   Nguyễn Mai Anh|\n",
      "|           2|   write|        9| 20240612|   Nguyễn Mai Anh|\n",
      "|           2| execute|        1| 20240612|   Nguyễn Mai Anh|\n",
      "|           2|    read|        3| 20240613|   Nguyễn Mai Anh|\n",
      "|           2|   write|        1| 20240611|   Nguyễn Mai Anh|\n",
      "|           3|    read|        9| 20240613|Ngô Ngọc Tuấn Anh|\n",
      "+------------+--------+---------+---------+-----------------+\n",
      "only showing top 20 rows\n",
      "\n"
     ]
    }
   ],
   "source": [
    "joined_df.show()"
   ]
  },
  {
   "cell_type": "code",
   "execution_count": 13,
   "id": "328b831c",
   "metadata": {},
   "outputs": [],
   "source": [
    "result_df = joined_df.groupBy(\"timestamp\", \"student_code\", \"student_name\", \"activity\") \\\n",
    "    .agg(spark_sum(\"numOfFile\").alias(\"totalFile\"))"
   ]
  },
  {
   "cell_type": "code",
   "execution_count": 14,
   "id": "6545aee7",
   "metadata": {},
   "outputs": [
    {
     "name": "stdout",
     "output_type": "stream",
     "text": [
      "+---------+------------+--------------------+--------+---------+\n",
      "|timestamp|student_code|        student_name|activity|totalFile|\n",
      "+---------+------------+--------------------+--------+---------+\n",
      "| 20240614|           1|          Mai Đức An|   write|        4|\n",
      "| 20240615|          19|        Lê Bảo Khánh| execute|       15|\n",
      "| 20240612|           3|   Ngô Ngọc Tuấn Anh|   write|        2|\n",
      "| 20240610|           5|       Trần Ngọc Bảo| execute|        5|\n",
      "| 20240612|          17|      Châu Minh Khải|    read|       15|\n",
      "| 20240614|          36|        Vũ Khắc Long|    read|        5|\n",
      "| 20240610|          27|Nguyễn Thị Thùy T...|   write|        1|\n",
      "| 20240612|          24|     Nguyễn Hoài Nam| execute|       18|\n",
      "| 20240610|          29|    Nguyễn Minh Quân|   write|        9|\n",
      "| 20240611|           4|      Trần Trung Anh| execute|        7|\n",
      "| 20240615|          19|        Lê Bảo Khánh|   write|        4|\n",
      "| 20240612|          25|    Đào Thanh Nguyên| execute|        9|\n",
      "| 20240610|          30|     Phùng Huy Quang|   write|        6|\n",
      "| 20240611|          13|    Nguyễn Minh Hiếu|   write|        8|\n",
      "| 20240614|           7|    Nguyễn Thành Đạt|    read|        7|\n",
      "| 20240611|           2|      Nguyễn Mai Anh|   write|        1|\n",
      "| 20240615|          31|         Tạ Đức Tiến| execute|        9|\n",
      "| 20240610|          37|          Đào Anh Vũ| execute|        9|\n",
      "| 20240610|          16|        Đỗ Doãn Khắc|   write|        1|\n",
      "| 20240613|          25|    Đào Thanh Nguyên| execute|        6|\n",
      "+---------+------------+--------------------+--------+---------+\n",
      "only showing top 20 rows\n",
      "\n"
     ]
    }
   ],
   "source": [
    "result_df.show()"
   ]
  },
  {
   "cell_type": "code",
   "execution_count": 15,
   "id": "f98ff7a1",
   "metadata": {},
   "outputs": [],
   "source": [
    "sorted_df = result_df.orderBy(\"timestamp\", \"student_code\", \"activity\")"
   ]
  },
  {
   "cell_type": "code",
   "execution_count": 16,
   "id": "150c3736",
   "metadata": {},
   "outputs": [
    {
     "name": "stdout",
     "output_type": "stream",
     "text": [
      "+---------+------------+--------------------+--------+---------+\n",
      "|timestamp|student_code|        student_name|activity|totalFile|\n",
      "+---------+------------+--------------------+--------+---------+\n",
      "| 20240610|           1|          Mai Đức An|    read|       25|\n",
      "| 20240610|           1|          Mai Đức An|   write|        6|\n",
      "| 20240610|          10|    Nguyễn Quốc Dũng|   write|        5|\n",
      "| 20240610|          11|     Đường Minh Quân| execute|        4|\n",
      "| 20240610|          11|     Đường Minh Quân|   write|        5|\n",
      "| 20240610|          12|   Dương Quang Giang|    read|        8|\n",
      "| 20240610|          13|    Nguyễn Minh Hiếu|    read|        8|\n",
      "| 20240610|          15|Nguyễn Đình Thiên...|    read|        1|\n",
      "| 20240610|          15|Nguyễn Đình Thiên...|   write|        8|\n",
      "| 20240610|          16|        Đỗ Doãn Khắc|    read|        6|\n",
      "| 20240610|          16|        Đỗ Doãn Khắc|   write|        1|\n",
      "| 20240610|          17|      Châu Minh Khải| execute|       14|\n",
      "| 20240610|          17|      Châu Minh Khải|    read|        6|\n",
      "| 20240610|          18|      Phạm Đình Khôi|    read|       15|\n",
      "| 20240610|          18|      Phạm Đình Khôi|   write|        1|\n",
      "| 20240610|          19|        Lê Bảo Khánh| execute|        3|\n",
      "| 20240610|          22|       Huỳnh Tấn Lộc| execute|        6|\n",
      "| 20240610|          22|       Huỳnh Tấn Lộc|    read|       11|\n",
      "| 20240610|          24|     Nguyễn Hoài Nam| execute|       10|\n",
      "| 20240610|          24|     Nguyễn Hoài Nam|   write|       10|\n",
      "+---------+------------+--------------------+--------+---------+\n",
      "only showing top 20 rows\n",
      "\n"
     ]
    }
   ],
   "source": [
    "sorted_df.show()"
   ]
  },
  {
   "cell_type": "code",
   "execution_count": 17,
   "id": "ab1f5ace",
   "metadata": {},
   "outputs": [],
   "source": [
    "sorted_df.write.option(\"header\", \"true\").csv(\"/ouput_student_path\")"
   ]
  },
  {
   "cell_type": "code",
   "execution_count": null,
   "id": "750505f0",
   "metadata": {},
   "outputs": [],
   "source": []
  },
  {
   "cell_type": "code",
   "execution_count": null,
   "id": "546c716b",
   "metadata": {},
   "outputs": [],
   "source": []
  }
 ],
 "metadata": {
  "kernelspec": {
   "display_name": "Python 3 (ipykernel)",
   "language": "python",
   "name": "python3"
  },
  "language_info": {
   "codemirror_mode": {
    "name": "ipython",
    "version": 3
   },
   "file_extension": ".py",
   "mimetype": "text/x-python",
   "name": "python",
   "nbconvert_exporter": "python",
   "pygments_lexer": "ipython3",
   "version": "3.11.5"
  }
 },
 "nbformat": 4,
 "nbformat_minor": 5
}
